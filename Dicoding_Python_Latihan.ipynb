{
  "nbformat": 4,
  "nbformat_minor": 0,
  "metadata": {
    "colab": {
      "name": "Dicoding Python Latihan",
      "provenance": [],
      "authorship_tag": "ABX9TyND2Z/Fnf1Etg+iN0DMv5bS",
      "include_colab_link": true
    },
    "kernelspec": {
      "name": "python3",
      "display_name": "Python 3"
    },
    "language_info": {
      "name": "python"
    }
  },
  "cells": [
    {
      "cell_type": "markdown",
      "metadata": {
        "id": "view-in-github",
        "colab_type": "text"
      },
      "source": [
        "<a href=\"https://colab.research.google.com/github/Jacquedelest/Latihan-Dicoding/blob/main/Dicoding_Python_Latihan.ipynb\" target=\"_parent\"><img src=\"https://colab.research.google.com/assets/colab-badge.svg\" alt=\"Open In Colab\"/></a>"
      ]
    },
    {
      "cell_type": "code",
      "metadata": {
        "colab": {
          "base_uri": "https://localhost:8080/"
        },
        "id": "EudtK4Ib9Agn",
        "outputId": "b50c667e-7775-4538-ddef-8d042fe00729"
      },
      "source": [
        "while True:\n",
        "    print('Masukkan nama Anda:')\n",
        "    name = input()\n",
        "    if name.isalpha():\n",
        "        print(\"Halo\", name)\n",
        "        break\n",
        "    print('Masukkan nama Anda dengan benar.')"
      ],
      "execution_count": null,
      "outputs": [
        {
          "output_type": "stream",
          "text": [
            "Masukkan nama Anda:\n",
            "124\n",
            "Masukkan nama Anda dengan benar.\n",
            "Masukkan nama Anda:\n",
            "Hahnchen\n",
            "Halo Hahnchen\n"
          ],
          "name": "stdout"
        }
      ]
    },
    {
      "cell_type": "code",
      "metadata": {
        "colab": {
          "base_uri": "https://localhost:8080/"
        },
        "id": "PD58xeVb22AO",
        "outputId": "78a1c7a1-4386-448b-d658-fb12125b4d19"
      },
      "source": [
        "list_a = range(1, 10, 2)\n",
        "x = [[a**2, a**3] for a in list_a]\n",
        "print(x)"
      ],
      "execution_count": null,
      "outputs": [
        {
          "output_type": "stream",
          "text": [
            "[[1, 1], [9, 27], [25, 125], [49, 343], [81, 729]]\n"
          ],
          "name": "stdout"
        }
      ]
    },
    {
      "cell_type": "code",
      "metadata": {
        "colab": {
          "base_uri": "https://localhost:8080/"
        },
        "id": "r1u0dBVbekii",
        "outputId": "8e6bb5f6-8f9f-40b9-ee19-a85de0b75afd"
      },
      "source": [
        "def kali(angka1, angka2):\n",
        "    # Kalikan kedua parameter\n",
        "    hasil = angka1 * angka2\n",
        "    print('Dicetak dari dalam fungsi: {}'.format(hasil))\n",
        "    return hasil\n",
        " \n",
        "# Panggil fungsi kali\n",
        "keluaran = kali(10, 20);\n",
        "print('Dicetak sebagai kembalian: {}'.format(keluaran))"
      ],
      "execution_count": null,
      "outputs": [
        {
          "output_type": "stream",
          "text": [
            "Dicetak dari dalam fungsi: 200\n",
            "Dicetak sebagai kembalian: 200\n"
          ],
          "name": "stdout"
        }
      ]
    },
    {
      "cell_type": "code",
      "metadata": {
        "colab": {
          "base_uri": "https://localhost:8080/"
        },
        "id": "6yZw5TBte6rH",
        "outputId": "db84727b-1bc1-4576-e051-6eb8a191138d"
      },
      "source": [
        "def kuadrat(x):\n",
        "    return x*x\n",
        "a = input()\n",
        "k = kuadrat(int(a))\n",
        "print('nilai kuadrat dari {} adalah {}'.format(a, k))"
      ],
      "execution_count": null,
      "outputs": [
        {
          "output_type": "stream",
          "text": [
            "3\n",
            "nilai kuadrat dari 3 adalah 9\n"
          ],
          "name": "stdout"
        }
      ]
    },
    {
      "cell_type": "code",
      "metadata": {
        "colab": {
          "base_uri": "https://localhost:8080/"
        },
        "id": "9uRkJ5FNmaDx",
        "outputId": "2a302c4b-2fbb-4402-f81c-761af06fd756"
      },
      "source": [
        "class Kalkulator:\n",
        "    \"\"\"contoh kelas kalkulator sederhana. anggap kelas ini tidak boleh diubah!\"\"\"\n",
        " \n",
        "    def __init__(self, nilai=0):\n",
        "        self.nilai = nilai\n",
        " \n",
        "    def tambah_angka(self, angka1, angka2):\n",
        "        self.nilai = angka1 + angka2\n",
        "        if self.nilai > 9:  # kalkulator sederhana hanya memroses sampai 9\n",
        "            print('kalkulator sederhana melebihi batas angka: {}'.format(self.nilai))\n",
        "        return self.nilai\n",
        "\n",
        "class KalkulatorKali(Kalkulator):\n",
        "    \"\"\"contoh mewarisi kelas kalkulator sederhana\"\"\"\n",
        " \n",
        "    def kali_angka(self, angka1, angka2):\n",
        "        self.nilai = angka1 * angka2\n",
        "        return self.nilai\n",
        " \n",
        "    def tambah_angka(self, angka1, angka2):\n",
        "        self.nilai = angka1 + angka2\n",
        "        return self.nilai\n",
        "\n",
        "class KalkulatorTambah(Kalkulator):\n",
        "    \"\"\"contoh mewarisi kelas kalkulator sederhana\"\"\"\n",
        " \n",
        "    def tambah_angka(self, angka1, angka2):\n",
        "        if angka1 + angka2 <= 9:  # fitur ini sudah oke di kelas dasar, gunakan yang ada saja\n",
        "            super().tambah_angka(angka1, angka2)  # panggil fungsi dari Kalkulator lalu isi nilai\n",
        "        else:  # ini adalah fitur baru yang ingin diperbaiki dari keterbatasan kelas dasar\n",
        "            self.nilai = angka1 + angka2\n",
        "        return self.nilai\n",
        "\n",
        "kk = KalkulatorKali()\n",
        "\n",
        "b = kk.tambah_angka(5, 6)  # fitur tambah_angka yang dipanggil milik KalkulatorKali\n",
        "print(b)"
      ],
      "execution_count": null,
      "outputs": [
        {
          "output_type": "stream",
          "text": [
            "11\n"
          ],
          "name": "stdout"
        }
      ]
    },
    {
      "cell_type": "code",
      "metadata": {
        "colab": {
          "base_uri": "https://localhost:8080/",
          "height": 319
        },
        "id": "rAPatundas59",
        "outputId": "4603ee93-1cfc-40f5-8c0f-d484a6f9aaff"
      },
      "source": [
        "import unittest\n",
        " \n",
        "def koneksi_ke_db():\n",
        "  print('[terhubung ke db]')\n",
        "def putus_koneksi_db(db):\n",
        "  print('[tidak terhubung ke db {}]'.format(db))\n",
        " \n",
        "class User:\n",
        "  username = ''\n",
        "  aktif = False\n",
        "  def __init__(self, db, username):  # using db sample\n",
        "    self.username = username\n",
        "  def set_aktif(self):\n",
        "    self.aktif = True\n",
        " \n",
        "class TestUser(unittest.TestCase):\n",
        "  def setUp(self):\n",
        "    self.db = koneksi_ke_db()\n",
        "    self.dicoding = User(self.db, 'dicoding')\n",
        "  def tearDown(self):\n",
        "    putus_koneksi_db(self.db)\n",
        "  def test_user_default_not_active(self):\n",
        "    self.assertFalse(self.dicoding.aktif)  # tidak aktif secara default\n",
        "  def test_user_is_active(self):\n",
        "    self.dicoding.set_aktif()  # aktifkan user baru\n",
        "    self.assertTrue(self.dicoding.aktif)\n",
        "    \n",
        "    \n",
        "if __name__ == '__main__':\n",
        "  unittest.main()"
      ],
      "execution_count": null,
      "outputs": [
        {
          "output_type": "stream",
          "text": [
            "E\n",
            "======================================================================\n",
            "ERROR: /root/ (unittest.loader._FailedTest)\n",
            "----------------------------------------------------------------------\n",
            "AttributeError: module '__main__' has no attribute '/root/'\n",
            "\n",
            "----------------------------------------------------------------------\n",
            "Ran 1 test in 0.002s\n",
            "\n",
            "FAILED (errors=1)\n"
          ],
          "name": "stderr"
        },
        {
          "output_type": "error",
          "ename": "SystemExit",
          "evalue": "ignored",
          "traceback": [
            "An exception has occurred, use %tb to see the full traceback.\n",
            "\u001b[0;31mSystemExit\u001b[0m\u001b[0;31m:\u001b[0m True\n"
          ]
        },
        {
          "output_type": "stream",
          "text": [
            "/usr/local/lib/python3.7/dist-packages/IPython/core/interactiveshell.py:2890: UserWarning: To exit: use 'exit', 'quit', or Ctrl-D.\n",
            "  warn(\"To exit: use 'exit', 'quit', or Ctrl-D.\", stacklevel=1)\n"
          ],
          "name": "stderr"
        }
      ]
    },
    {
      "cell_type": "code",
      "metadata": {
        "colab": {
          "base_uri": "https://localhost:8080/",
          "height": 183
        },
        "id": "L84WsFQYGXWI",
        "outputId": "f2a8af90-c229-40b4-acdd-5980747d1e84"
      },
      "source": [
        "import argparse\n",
        " \n",
        "parser = argparse.ArgumentParser()\n",
        "parser.add_argument('-n', '--nama', required=True, help=\"Masukkan Nama Anda\")\n",
        "args = parser.parse_args()\n",
        " \n",
        "print(\"Terima kasih telah menggunakan panggildicoding.py, \"+args.nama)"
      ],
      "execution_count": null,
      "outputs": [
        {
          "output_type": "stream",
          "text": [
            "usage: ipykernel_launcher.py [-h] -n NAMA\n",
            "ipykernel_launcher.py: error: the following arguments are required: -n/--nama\n"
          ],
          "name": "stderr"
        },
        {
          "output_type": "error",
          "ename": "SystemExit",
          "evalue": "ignored",
          "traceback": [
            "An exception has occurred, use %tb to see the full traceback.\n",
            "\u001b[0;31mSystemExit\u001b[0m\u001b[0;31m:\u001b[0m 2\n"
          ]
        },
        {
          "output_type": "stream",
          "text": [
            "/usr/local/lib/python3.7/dist-packages/IPython/core/interactiveshell.py:2890: UserWarning: To exit: use 'exit', 'quit', or Ctrl-D.\n",
            "  warn(\"To exit: use 'exit', 'quit', or Ctrl-D.\", stacklevel=1)\n"
          ],
          "name": "stderr"
        }
      ]
    },
    {
      "cell_type": "code",
      "metadata": {
        "colab": {
          "base_uri": "https://localhost:8080/",
          "height": 166
        },
        "id": "uXS3SAeYHr3z",
        "outputId": "4793a038-7afd-4099-bbbd-2f79e73e12c8"
      },
      "source": [
        "int('2+3')"
      ],
      "execution_count": null,
      "outputs": [
        {
          "output_type": "error",
          "ename": "ValueError",
          "evalue": "ignored",
          "traceback": [
            "\u001b[0;31m---------------------------------------------------------------------------\u001b[0m",
            "\u001b[0;31mValueError\u001b[0m                                Traceback (most recent call last)",
            "\u001b[0;32m<ipython-input-7-7dc57dc68b93>\u001b[0m in \u001b[0;36m<module>\u001b[0;34m()\u001b[0m\n\u001b[0;32m----> 1\u001b[0;31m \u001b[0mint\u001b[0m\u001b[0;34m(\u001b[0m\u001b[0;34m'2+3'\u001b[0m\u001b[0;34m)\u001b[0m\u001b[0;34m\u001b[0m\u001b[0;34m\u001b[0m\u001b[0m\n\u001b[0m",
            "\u001b[0;31mValueError\u001b[0m: invalid literal for int() with base 10: '2+3'"
          ]
        }
      ]
    },
    {
      "cell_type": "markdown",
      "metadata": {
        "id": "B-E38BGb21kU"
      },
      "source": [
        ""
      ]
    }
  ]
}